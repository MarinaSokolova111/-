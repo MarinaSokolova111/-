{
  "nbformat": 4,
  "nbformat_minor": 0,
  "metadata": {
    "colab": {
      "name": "ОПДА Лаб 4.2",
      "provenance": [],
      "authorship_tag": "ABX9TyNpuwgn/cpgFxmUtwMPfWe0",
      "include_colab_link": true
    },
    "kernelspec": {
      "name": "python3",
      "display_name": "Python 3"
    },
    "language_info": {
      "name": "python"
    }
  },
  "cells": [
    {
      "cell_type": "markdown",
      "metadata": {
        "id": "view-in-github",
        "colab_type": "text"
      },
      "source": [
        "<a href=\"https://colab.research.google.com/github/MarinaSokolova111/OPDA/blob/main/%D0%9E%D0%9F%D0%94%D0%90_%D0%9B%D0%B0%D0%B1_4_2.ipynb\" target=\"_parent\"><img src=\"https://colab.research.google.com/assets/colab-badge.svg\" alt=\"Open In Colab\"/></a>"
      ]
    },
    {
      "cell_type": "code",
      "metadata": {
        "id": "fVQDvBIsb69H"
      },
      "source": [
        "import numpy as np\n",
        "import pandas as pd\n",
        "from ast import literal_eval as le"
      ],
      "execution_count": null,
      "outputs": []
    },
    {
      "cell_type": "markdown",
      "metadata": {
        "id": "f4ZowIA_ehXK"
      },
      "source": [
        "# Задание 1"
      ]
    },
    {
      "cell_type": "code",
      "metadata": {
        "id": "LMr9yPg1dv1D",
        "colab": {
          "base_uri": "https://localhost:8080/",
          "height": 396
        },
        "outputId": "728f62de-a27e-4453-d777-17c90e936b9b"
      },
      "source": [
        "df = le(input())\n",
        "df1 = pd.DataFrame(df)\n",
        "df1.columns.name = 'TOP'\n",
        "frame = df1.nlargest(10, ['salary'])\n",
        "frame.sort_values(by=['salary'], ascending=False).reset_index(drop=True)"
      ],
      "execution_count": null,
      "outputs": [
        {
          "output_type": "stream",
          "text": [
            "{'age': {0: 36, 1: 41, 2: 34, 3: 48, 4: 20, 5: 41, 6: 44, 7: 46, 8: 46, 9: 47, 10: 24, 11: 46, 12: 44, 13: 28, 14: 32}, 'name': {0: 'Colli', 1: 'Dudly', 2: 'Ann', 3: 'Colli', 4: 'Colli', 5: 'Dudly', 6: 'Colli', 7: 'Ann', 8: 'Ann', 9: 'Bil', 10: 'Colli', 11: 'Ann', 12: 'Colli', 13: 'Colli', 14: 'Colli'}, 'salary': {0: 37518, 1: 10028, 2: 63981, 3: 75254, 4: 43372, 5: 91670, 6: 75874, 7: 81422, 8: 44411, 9: 142465, 10: 13796, 11: 57226, 12: 57615, 13: 12763, 14: 28102}}\n"
          ],
          "name": "stdout"
        },
        {
          "output_type": "execute_result",
          "data": {
            "text/html": [
              "<div>\n",
              "<style scoped>\n",
              "    .dataframe tbody tr th:only-of-type {\n",
              "        vertical-align: middle;\n",
              "    }\n",
              "\n",
              "    .dataframe tbody tr th {\n",
              "        vertical-align: top;\n",
              "    }\n",
              "\n",
              "    .dataframe thead th {\n",
              "        text-align: right;\n",
              "    }\n",
              "</style>\n",
              "<table border=\"1\" class=\"dataframe\">\n",
              "  <thead>\n",
              "    <tr style=\"text-align: right;\">\n",
              "      <th>TOP</th>\n",
              "      <th>age</th>\n",
              "      <th>name</th>\n",
              "      <th>salary</th>\n",
              "    </tr>\n",
              "  </thead>\n",
              "  <tbody>\n",
              "    <tr>\n",
              "      <th>0</th>\n",
              "      <td>47</td>\n",
              "      <td>Bil</td>\n",
              "      <td>142465</td>\n",
              "    </tr>\n",
              "    <tr>\n",
              "      <th>1</th>\n",
              "      <td>41</td>\n",
              "      <td>Dudly</td>\n",
              "      <td>91670</td>\n",
              "    </tr>\n",
              "    <tr>\n",
              "      <th>2</th>\n",
              "      <td>46</td>\n",
              "      <td>Ann</td>\n",
              "      <td>81422</td>\n",
              "    </tr>\n",
              "    <tr>\n",
              "      <th>3</th>\n",
              "      <td>44</td>\n",
              "      <td>Colli</td>\n",
              "      <td>75874</td>\n",
              "    </tr>\n",
              "    <tr>\n",
              "      <th>4</th>\n",
              "      <td>48</td>\n",
              "      <td>Colli</td>\n",
              "      <td>75254</td>\n",
              "    </tr>\n",
              "    <tr>\n",
              "      <th>5</th>\n",
              "      <td>34</td>\n",
              "      <td>Ann</td>\n",
              "      <td>63981</td>\n",
              "    </tr>\n",
              "    <tr>\n",
              "      <th>6</th>\n",
              "      <td>44</td>\n",
              "      <td>Colli</td>\n",
              "      <td>57615</td>\n",
              "    </tr>\n",
              "    <tr>\n",
              "      <th>7</th>\n",
              "      <td>46</td>\n",
              "      <td>Ann</td>\n",
              "      <td>57226</td>\n",
              "    </tr>\n",
              "    <tr>\n",
              "      <th>8</th>\n",
              "      <td>46</td>\n",
              "      <td>Ann</td>\n",
              "      <td>44411</td>\n",
              "    </tr>\n",
              "    <tr>\n",
              "      <th>9</th>\n",
              "      <td>20</td>\n",
              "      <td>Colli</td>\n",
              "      <td>43372</td>\n",
              "    </tr>\n",
              "  </tbody>\n",
              "</table>\n",
              "</div>"
            ],
            "text/plain": [
              "TOP  age   name  salary\n",
              "0     47    Bil  142465\n",
              "1     41  Dudly   91670\n",
              "2     46    Ann   81422\n",
              "3     44  Colli   75874\n",
              "4     48  Colli   75254\n",
              "5     34    Ann   63981\n",
              "6     44  Colli   57615\n",
              "7     46    Ann   57226\n",
              "8     46    Ann   44411\n",
              "9     20  Colli   43372"
            ]
          },
          "metadata": {
            "tags": []
          },
          "execution_count": 4
        }
      ]
    },
    {
      "cell_type": "markdown",
      "metadata": {
        "id": "EkiwjarNerpy"
      },
      "source": [
        "# Задание 2"
      ]
    },
    {
      "cell_type": "code",
      "metadata": {
        "colab": {
          "base_uri": "https://localhost:8080/",
          "height": 458
        },
        "id": "3XCBMeJAetrt",
        "outputId": "259f6abe-4b14-4e60-d2e3-78134195cdcc"
      },
      "source": [
        "dat = le(input())\n",
        "dat1 = pd.DataFrame(dat)\n",
        "dat2 = dat1[dat1[\"age\"]<5]\n",
        "dat2[dat2['age']>1]\n",
        "dat2.index.name = 'YOUNG'\n",
        "dat2 = dat1[dat1[\"age\"]<5]\n",
        "dat2[dat2['age']>1]\n",
        "dat2.index.name = 'YOUNG'\n",
        "dat2"
      ],
      "execution_count": null,
      "outputs": [
        {
          "output_type": "stream",
          "text": [
            "{'age': {0: 3, 1: 8, 2: 1, 3: 3, 4: 8, 5: 7, 6: 7, 7: 3, 8: 3, 9: 2, 10: 8, 11: 2, 12: 2, 13: 5, 14: 7, 15: 4, 16: 4, 17: 3, 18: 9, 19: 8}, 'animal': {0: 'dog', 1: 'cat', 2: 'dog', 3: 'dog', 4: 'dog', 5: 'cat', 6: 'cat', 7: 'snake', 8: 'dog', 9: 'cat', 10: 'dog', 11: 'dog', 12: 'dog', 13: 'dog', 14: 'dog', 15: 'dog', 16: 'dog', 17: 'snake', 18: 'snake', 19: 'cat'}, 'name': {0: 'Kaa', 1: 'Murzik', 2: 'Kaa', 3: 'Kaa', 4: 'Strelka', 5: 'Strelka', 6: 'Strelka', 7: 'Kaa', 8: 'Kaa', 9: 'Kaa', 10: 'Kaa', 11: 'Pushok', 12: 'Pushok', 13: 'Bobik', 14: 'Strelka', 15: 'Pushok', 16: 'Kaa', 17: 'Pushok', 18: 'Strelka', 19: 'Kaa'}, 'priority': {0: 'yes', 1: 'no', 2: 'yes', 3: 'yes', 4: 'yes', 5: 'no', 6: 'yes', 7: 'yes', 8: 'yes', 9: 'no', 10: 'yes', 11: 'yes', 12: 'yes', 13: 'yes', 14: 'yes', 15: 'yes', 16: 'yes', 17: 'yes', 18: 'yes', 19: 'no'}, 'visits': {0: 3, 1: 4, 2: 1, 3: 3, 4: 3, 5: 4, 6: 3, 7: 1, 8: 1, 9: 2, 10: 3, 11: 1, 12: 3, 13: 3, 14: 3, 15: 3, 16: 3, 17: 3, 18: 3, 19: 2}}\n"
          ],
          "name": "stdout"
        },
        {
          "output_type": "execute_result",
          "data": {
            "text/html": [
              "<div>\n",
              "<style scoped>\n",
              "    .dataframe tbody tr th:only-of-type {\n",
              "        vertical-align: middle;\n",
              "    }\n",
              "\n",
              "    .dataframe tbody tr th {\n",
              "        vertical-align: top;\n",
              "    }\n",
              "\n",
              "    .dataframe thead th {\n",
              "        text-align: right;\n",
              "    }\n",
              "</style>\n",
              "<table border=\"1\" class=\"dataframe\">\n",
              "  <thead>\n",
              "    <tr style=\"text-align: right;\">\n",
              "      <th></th>\n",
              "      <th>age</th>\n",
              "      <th>animal</th>\n",
              "      <th>name</th>\n",
              "      <th>priority</th>\n",
              "      <th>visits</th>\n",
              "    </tr>\n",
              "    <tr>\n",
              "      <th>YOUNG</th>\n",
              "      <th></th>\n",
              "      <th></th>\n",
              "      <th></th>\n",
              "      <th></th>\n",
              "      <th></th>\n",
              "    </tr>\n",
              "  </thead>\n",
              "  <tbody>\n",
              "    <tr>\n",
              "      <th>0</th>\n",
              "      <td>3</td>\n",
              "      <td>dog</td>\n",
              "      <td>Kaa</td>\n",
              "      <td>yes</td>\n",
              "      <td>3</td>\n",
              "    </tr>\n",
              "    <tr>\n",
              "      <th>2</th>\n",
              "      <td>1</td>\n",
              "      <td>dog</td>\n",
              "      <td>Kaa</td>\n",
              "      <td>yes</td>\n",
              "      <td>1</td>\n",
              "    </tr>\n",
              "    <tr>\n",
              "      <th>3</th>\n",
              "      <td>3</td>\n",
              "      <td>dog</td>\n",
              "      <td>Kaa</td>\n",
              "      <td>yes</td>\n",
              "      <td>3</td>\n",
              "    </tr>\n",
              "    <tr>\n",
              "      <th>7</th>\n",
              "      <td>3</td>\n",
              "      <td>snake</td>\n",
              "      <td>Kaa</td>\n",
              "      <td>yes</td>\n",
              "      <td>1</td>\n",
              "    </tr>\n",
              "    <tr>\n",
              "      <th>8</th>\n",
              "      <td>3</td>\n",
              "      <td>dog</td>\n",
              "      <td>Kaa</td>\n",
              "      <td>yes</td>\n",
              "      <td>1</td>\n",
              "    </tr>\n",
              "    <tr>\n",
              "      <th>9</th>\n",
              "      <td>2</td>\n",
              "      <td>cat</td>\n",
              "      <td>Kaa</td>\n",
              "      <td>no</td>\n",
              "      <td>2</td>\n",
              "    </tr>\n",
              "    <tr>\n",
              "      <th>11</th>\n",
              "      <td>2</td>\n",
              "      <td>dog</td>\n",
              "      <td>Pushok</td>\n",
              "      <td>yes</td>\n",
              "      <td>1</td>\n",
              "    </tr>\n",
              "    <tr>\n",
              "      <th>12</th>\n",
              "      <td>2</td>\n",
              "      <td>dog</td>\n",
              "      <td>Pushok</td>\n",
              "      <td>yes</td>\n",
              "      <td>3</td>\n",
              "    </tr>\n",
              "    <tr>\n",
              "      <th>15</th>\n",
              "      <td>4</td>\n",
              "      <td>dog</td>\n",
              "      <td>Pushok</td>\n",
              "      <td>yes</td>\n",
              "      <td>3</td>\n",
              "    </tr>\n",
              "    <tr>\n",
              "      <th>16</th>\n",
              "      <td>4</td>\n",
              "      <td>dog</td>\n",
              "      <td>Kaa</td>\n",
              "      <td>yes</td>\n",
              "      <td>3</td>\n",
              "    </tr>\n",
              "    <tr>\n",
              "      <th>17</th>\n",
              "      <td>3</td>\n",
              "      <td>snake</td>\n",
              "      <td>Pushok</td>\n",
              "      <td>yes</td>\n",
              "      <td>3</td>\n",
              "    </tr>\n",
              "  </tbody>\n",
              "</table>\n",
              "</div>"
            ],
            "text/plain": [
              "       age animal    name priority  visits\n",
              "YOUNG                                     \n",
              "0        3    dog     Kaa      yes       3\n",
              "2        1    dog     Kaa      yes       1\n",
              "3        3    dog     Kaa      yes       3\n",
              "7        3  snake     Kaa      yes       1\n",
              "8        3    dog     Kaa      yes       1\n",
              "9        2    cat     Kaa       no       2\n",
              "11       2    dog  Pushok      yes       1\n",
              "12       2    dog  Pushok      yes       3\n",
              "15       4    dog  Pushok      yes       3\n",
              "16       4    dog     Kaa      yes       3\n",
              "17       3  snake  Pushok      yes       3"
            ]
          },
          "metadata": {
            "tags": []
          },
          "execution_count": 7
        }
      ]
    },
    {
      "cell_type": "markdown",
      "metadata": {
        "id": "qGd7TDXXfmdy"
      },
      "source": [
        "# Задание 3"
      ]
    },
    {
      "cell_type": "code",
      "metadata": {
        "colab": {
          "base_uri": "https://localhost:8080/",
          "height": 275
        },
        "id": "xkJj7_9rfq9v",
        "outputId": "7225e09a-f26b-4dca-ce5d-30cffed3efe7"
      },
      "source": [
        "data_frame = le(input())\n",
        "data_frame1 = pd.DataFrame(data_frame)\n",
        "data_frame2=data_frame1.groupby('specialization')\n",
        "data_frame2['age', 'salary'].mean()"
      ],
      "execution_count": 94,
      "outputs": [
        {
          "output_type": "stream",
          "text": [
            "{'age': {0: 36, 1: 41, 2: 34, 3: 48, 4: 20, 5: 41, 6: 44, 7: 46, 8: 46, 9: 47, 10: 24, 11: 46, 12: 44, 13: 28, 14: 32, 15: 24, 16: 36, 17: 36, 18: 48, 19: 43, 20: 35, 21: 41, 22: 29, 23: 46, 24: 35}, 'name': {0: 'Colli', 1: 'Dudly', 2: 'Ann', 3: 'Colli', 4: 'Colli', 5: 'Dudly', 6: 'Colli', 7: 'Ann', 8: 'Ann', 9: 'Bil', 10: 'Colli', 11: 'Ann', 12: 'Colli', 13: 'Colli', 14: 'Colli', 15: 'Colli', 16: 'Colli', 17: 'Colli', 18: 'Colli', 19: 'Bil', 20: 'Bil', 21: 'Dudly', 22: 'Dudly', 23: 'Ann', 24: 'Bil'}, 'salary': {0: 37518, 1: 10028, 2: 63981, 3: 75254, 4: 43372, 5: 91670, 6: 75874, 7: 81422, 8: 44411, 9: 142465, 10: 13796, 11: 57226, 12: 57615, 13: 12763, 14: 28102, 15: 62579, 16: 126370, 17: 99752, 18: 127615, 19: 30344, 20: 96977, 21: 74491, 22: 17023, 23: 98024, 24: 39242}, 'specialization': {0: 'DE', 1: 'Analitics', 2: 'DS', 3: 'DE', 4: 'DE', 5: 'Analitics', 6: 'DE', 7: 'DS', 8: 'DS', 9: 'Planning', 10: 'DE', 11: 'DS', 12: 'DE', 13: 'DE', 14: 'DE', 15: 'DE', 16: 'DE', 17: 'DE', 18: 'DE', 19: 'Planning', 20: 'Planning', 21: 'Analitics', 22: 'Analitics', 23: 'DS', 24: 'Planning'}}\n"
          ],
          "name": "stdout"
        },
        {
          "output_type": "stream",
          "text": [
            "/usr/local/lib/python3.7/dist-packages/ipykernel_launcher.py:4: FutureWarning: Indexing with multiple keys (implicitly converted to a tuple of keys) will be deprecated, use a list instead.\n",
            "  after removing the cwd from sys.path.\n"
          ],
          "name": "stderr"
        },
        {
          "output_type": "execute_result",
          "data": {
            "text/html": [
              "<div>\n",
              "<style scoped>\n",
              "    .dataframe tbody tr th:only-of-type {\n",
              "        vertical-align: middle;\n",
              "    }\n",
              "\n",
              "    .dataframe tbody tr th {\n",
              "        vertical-align: top;\n",
              "    }\n",
              "\n",
              "    .dataframe thead th {\n",
              "        text-align: right;\n",
              "    }\n",
              "</style>\n",
              "<table border=\"1\" class=\"dataframe\">\n",
              "  <thead>\n",
              "    <tr style=\"text-align: right;\">\n",
              "      <th></th>\n",
              "      <th>age</th>\n",
              "      <th>salary</th>\n",
              "    </tr>\n",
              "    <tr>\n",
              "      <th>specialization</th>\n",
              "      <th></th>\n",
              "      <th></th>\n",
              "    </tr>\n",
              "  </thead>\n",
              "  <tbody>\n",
              "    <tr>\n",
              "      <th>Analitics</th>\n",
              "      <td>38.0</td>\n",
              "      <td>48303.000000</td>\n",
              "    </tr>\n",
              "    <tr>\n",
              "      <th>DE</th>\n",
              "      <td>35.0</td>\n",
              "      <td>63384.166667</td>\n",
              "    </tr>\n",
              "    <tr>\n",
              "      <th>DS</th>\n",
              "      <td>43.6</td>\n",
              "      <td>69012.800000</td>\n",
              "    </tr>\n",
              "    <tr>\n",
              "      <th>Planning</th>\n",
              "      <td>40.0</td>\n",
              "      <td>77257.000000</td>\n",
              "    </tr>\n",
              "  </tbody>\n",
              "</table>\n",
              "</div>"
            ],
            "text/plain": [
              "                 age        salary\n",
              "specialization                    \n",
              "Analitics       38.0  48303.000000\n",
              "DE              35.0  63384.166667\n",
              "DS              43.6  69012.800000\n",
              "Planning        40.0  77257.000000"
            ]
          },
          "metadata": {
            "tags": []
          },
          "execution_count": 94
        }
      ]
    },
    {
      "cell_type": "markdown",
      "metadata": {
        "id": "ktObyWwefpr_"
      },
      "source": [
        "# Задание 4"
      ]
    },
    {
      "cell_type": "code",
      "metadata": {
        "id": "dfjR8rvhPZa_",
        "colab": {
          "base_uri": "https://localhost:8080/"
        },
        "outputId": "696ecf4c-04dd-4803-f079-56bf0cbc8606"
      },
      "source": [
        "df1, df2 = map(le,input().split('-'))"
      ],
      "execution_count": null,
      "outputs": [
        {
          "output_type": "stream",
          "text": [
            "{'availability': {0: 'yes', 1: 'no', 2: 'yes', 3: 'yes', 4: 'yes', 5: 'no', 6: 'yes', 7: 'yes', 8: 'yes', 9: 'no', 10: 'yes', 11: 'yes', 12: 'yes', 13: 'yes', 14: 'yes', 15: 'yes', 16: 'yes', 17: 'yes', 18: 'yes', 19: 'no', 20: 'no', 21: 'no', 22: 'no', 23: 'yes', 24: 'no'}, 'price': {0: 772, 1: 2114, 2: 876, 3: 78, 4: 1326, 5: 783, 6: 654, 7: 388, 8: 1840, 9: 2123, 10: 1667, 11: 969, 12: 1693, 13: 1486, 14: 1827, 15: 1724, 16: 1443, 17: 2220, 18: 1768, 19: 1732, 20: 1689, 21: 1011, 22: 156, 23: 1229, 24: 358}, 'type': {0: 'dairy', 1: 'meat', 2: 'dairy', 3: 'dairy', 4: 'porridge', 5: 'porridge', 6: 'porridge', 7: 'dairy', 8: 'dairy', 9: 'dairy', 10: 'dairy', 11: 'fish', 12: 'fish', 13: 'sweets', 14: 'porridge', 15: 'fish', 16: 'dairy', 17: 'fish', 18: 'porridge', 19: 'dairy', 20: 'porridge', 21: 'sweets', 22: 'sweets', 23: 'sweets', 24: 'dairy'}}-{'prod_id': {0: 19, 1: 24, 2: 17, 3: 3, 4: 24, 5: 7, 6: 11, 7: 15, 8: 7, 9: 19, 10: 19, 11: 18, 12: 24, 13: 12, 14: 18, 15: 11, 16: 18, 17: 21, 18: 13, 19: 12}, 'rating': {0: 3, 1: 8, 2: 1, 3: 3, 4: 8, 5: 7, 6: 7, 7: 3, 8: 3, 9: 2, 10: 8, 11: 2, 12: 2, 13: 5, 14: 7, 15: 4, 16: 4, 17: 3, 18: 9, 19: 8}}\n"
          ],
          "name": "stdout"
        }
      ]
    },
    {
      "cell_type": "code",
      "metadata": {
        "colab": {
          "base_uri": "https://localhost:8080/",
          "height": 204
        },
        "id": "9INHN1Jn9UiY",
        "outputId": "522e48de-aa3e-4ee5-8256-eed35eeec9b4"
      },
      "source": [
        "df1 = pd.DataFrame(df1)\n",
        "df2 = pd.DataFrame(df2)\n",
        "\n",
        "df1['prod_id'] = np.arange(1, 26)\n",
        "\n",
        "df3 = pd.concat([df1, df2], axis=1)\n",
        "\n",
        "df4 = df3.fillna(0)\n",
        "\n",
        "df5=df4.groupby(['availability']).get_group('yes')\n",
        "\n",
        "df6 = df5.groupby(['type']).mean()\n",
        "\n",
        "df7 = df6.drop('prod_id', 1)\n",
        "df7.index.name = 'Prod_market'\n",
        "df7"
      ],
      "execution_count": 125,
      "outputs": [
        {
          "output_type": "execute_result",
          "data": {
            "text/html": [
              "<div>\n",
              "<style scoped>\n",
              "    .dataframe tbody tr th:only-of-type {\n",
              "        vertical-align: middle;\n",
              "    }\n",
              "\n",
              "    .dataframe tbody tr th {\n",
              "        vertical-align: top;\n",
              "    }\n",
              "\n",
              "    .dataframe thead th {\n",
              "        text-align: right;\n",
              "    }\n",
              "</style>\n",
              "<table border=\"1\" class=\"dataframe\">\n",
              "  <thead>\n",
              "    <tr style=\"text-align: right;\">\n",
              "      <th></th>\n",
              "      <th>price</th>\n",
              "      <th>rating</th>\n",
              "    </tr>\n",
              "    <tr>\n",
              "      <th>Prod_market</th>\n",
              "      <th></th>\n",
              "      <th></th>\n",
              "    </tr>\n",
              "  </thead>\n",
              "  <tbody>\n",
              "    <tr>\n",
              "      <th>dairy</th>\n",
              "      <td>1009.142857</td>\n",
              "      <td>3.571429</td>\n",
              "    </tr>\n",
              "    <tr>\n",
              "      <th>fish</th>\n",
              "      <td>1651.500000</td>\n",
              "      <td>2.750000</td>\n",
              "    </tr>\n",
              "    <tr>\n",
              "      <th>porridge</th>\n",
              "      <td>1393.750000</td>\n",
              "      <td>7.750000</td>\n",
              "    </tr>\n",
              "    <tr>\n",
              "      <th>sweets</th>\n",
              "      <td>1357.500000</td>\n",
              "      <td>2.500000</td>\n",
              "    </tr>\n",
              "  </tbody>\n",
              "</table>\n",
              "</div>"
            ],
            "text/plain": [
              "                   price    rating\n",
              "Prod_market                       \n",
              "dairy        1009.142857  3.571429\n",
              "fish         1651.500000  2.750000\n",
              "porridge     1393.750000  7.750000\n",
              "sweets       1357.500000  2.500000"
            ]
          },
          "metadata": {
            "tags": []
          },
          "execution_count": 125
        }
      ]
    }
  ]
}