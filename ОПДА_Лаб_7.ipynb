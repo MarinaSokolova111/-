{
  "nbformat": 4,
  "nbformat_minor": 0,
  "metadata": {
    "colab": {
      "name": "ОПДА Лаб 7",
      "provenance": [],
      "authorship_tag": "ABX9TyOFRafAxULxxLL9bESBoXAQ",
      "include_colab_link": true
    },
    "kernelspec": {
      "name": "python3",
      "display_name": "Python 3"
    },
    "language_info": {
      "name": "python"
    }
  },
  "cells": [
    {
      "cell_type": "markdown",
      "metadata": {
        "id": "view-in-github",
        "colab_type": "text"
      },
      "source": [
        "<a href=\"https://colab.research.google.com/github/MarinaSokolova111/-/blob/main/%D0%9E%D0%9F%D0%94%D0%90_%D0%9B%D0%B0%D0%B1_7.ipynb\" target=\"_parent\"><img src=\"https://colab.research.google.com/assets/colab-badge.svg\" alt=\"Open In Colab\"/></a>"
      ]
    },
    {
      "cell_type": "markdown",
      "metadata": {
        "id": "UbGvFM5tlogK"
      },
      "source": [
        "# Пример"
      ]
    },
    {
      "cell_type": "code",
      "metadata": {
        "colab": {
          "resources": {
            "http://localhost:8080/nbextensions/google.colab/files.js": {
              "data": "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",
              "ok": true,
              "headers": [
                [
                  "content-type",
                  "application/javascript"
                ]
              ],
              "status": 200,
              "status_text": ""
            }
          },
          "base_uri": "https://localhost:8080/",
          "height": 56
        },
        "id": "bTfPDt9XmP4K",
        "outputId": "78c635e4-5523-43bd-b6e8-bff9cc327468"
      },
      "source": [
        "from google.colab import files\n",
        "uploaded = files.upload()"
      ],
      "execution_count": null,
      "outputs": [
        {
          "output_type": "display_data",
          "data": {
            "text/html": [
              "\n",
              "     <input type=\"file\" id=\"files-4327e3cc-3034-4e76-baf8-fe70501a79f8\" name=\"files[]\" multiple disabled\n",
              "        style=\"border:none\" />\n",
              "     <output id=\"result-4327e3cc-3034-4e76-baf8-fe70501a79f8\">\n",
              "      Upload widget is only available when the cell has been executed in the\n",
              "      current browser session. Please rerun this cell to enable.\n",
              "      </output>\n",
              "      <script src=\"/nbextensions/google.colab/files.js\"></script> "
            ],
            "text/plain": [
              "<IPython.core.display.HTML object>"
            ]
          },
          "metadata": {
            "tags": []
          }
        },
        {
          "output_type": "stream",
          "text": [
            "Saving dataset7.xls to dataset7 (1).xls\n"
          ],
          "name": "stdout"
        }
      ]
    },
    {
      "cell_type": "code",
      "metadata": {
        "colab": {
          "base_uri": "https://localhost:8080/"
        },
        "id": "E7jwdqz0rr8A",
        "outputId": "cfb08504-8834-4eab-dfec-11da7711604b"
      },
      "source": [
        "data.info()"
      ],
      "execution_count": null,
      "outputs": [
        {
          "output_type": "stream",
          "text": [
            "<class 'pandas.core.frame.DataFrame'>\n",
            "Index: 3650 entries, 1981-01-01 to 1990-12-31\n",
            "Data columns (total 1 columns):\n",
            " #   Column  Non-Null Count  Dtype  \n",
            "---  ------  --------------  -----  \n",
            " 0   Temp    3650 non-null   float64\n",
            "dtypes: float64(1)\n",
            "memory usage: 57.0+ KB\n"
          ],
          "name": "stdout"
        }
      ]
    },
    {
      "cell_type": "code",
      "metadata": {
        "colab": {
          "base_uri": "https://localhost:8080/"
        },
        "id": "3e9AYOd6lsDr",
        "outputId": "d03e95dc-c6fc-4531-a792-099738408192"
      },
      "source": [
        "from pandas import read_csv\n",
        "from sklearn.preprocessing import MinMaxScaler\n",
        "data = read_csv('dataset7.xls', header=0, index_col=0)\n",
        "print(data.head())\n",
        " \n",
        "values = data.values\n",
        "values = values.reshape((len(values), 1))\n",
        " \n",
        "scaler = MinMaxScaler(feature_range=(0,1))\n",
        "scaler = scaler.fit(values)\n",
        "print('Min: %f, Max: %f' % (scaler.data_min_, scaler.data_max_))\n",
        " \n",
        "normalized = scaler.transform(values)\n",
        "for i in range(5):\n",
        "    print(normalized[i])\n",
        " \n",
        "inversed = scaler.inverse_transform(normalized)\n",
        "for i in range(5):\n",
        "    print(inversed[i])"
      ],
      "execution_count": null,
      "outputs": [
        {
          "output_type": "stream",
          "text": [
            "            Temp\n",
            "Date            \n",
            "1981-01-01  20.7\n",
            "1981-01-02  17.9\n",
            "1981-01-03  18.8\n",
            "1981-01-04  14.6\n",
            "1981-01-05  15.8\n",
            "Min: 0.000000, Max: 26.300000\n",
            "[0.78707224]\n",
            "[0.68060837]\n",
            "[0.7148289]\n",
            "[0.55513308]\n",
            "[0.60076046]\n",
            "[20.7]\n",
            "[17.9]\n",
            "[18.8]\n",
            "[14.6]\n",
            "[15.8]\n"
          ],
          "name": "stdout"
        }
      ]
    },
    {
      "cell_type": "code",
      "metadata": {
        "colab": {
          "base_uri": "https://localhost:8080/",
          "height": 281
        },
        "id": "hVJgNIvOpZtn",
        "outputId": "93fcafc9-be98-4552-e318-5a698b5649ff"
      },
      "source": [
        "from pandas import read_csv\n",
        "from matplotlib import pyplot\n",
        "df = read_csv('dataset7.xls', header=0, index_col=0)\n",
        "df.hist()\n",
        "pyplot.show()"
      ],
      "execution_count": null,
      "outputs": [
        {
          "output_type": "display_data",
          "data": {
            "image/png": "[encoded data removed]",
            "text/plain": [
              "<Figure size 432x288 with 1 Axes>"
            ]
          },
          "metadata": {
            "tags": [],
            "needs_background": "light"
          }
        }
      ]
    },
    {
      "cell_type": "code",
      "metadata": {
        "colab": {
          "base_uri": "https://localhost:8080/"
        },
        "id": "FldTPsIqsq2w",
        "outputId": "c8fe04d3-e02c-44b8-fd66-a93dfc1340c9"
      },
      "source": [
        "from sklearn.preprocessing import StandardScaler\n",
        "from math import sqrt\n",
        "\n",
        "values = df.values\n",
        "values = values.reshape((len(values), 1))\n",
        "\n",
        "scaler = StandardScaler()\n",
        "scaler = scaler.fit(values)\n",
        "print('Mean: %f, StandardDeviation: %f' % (scaler.mean_, sqrt(scaler.var_)))\n",
        "\n",
        "normalized = scaler.transform(values)\n",
        "for i in range(5):\n",
        "    print(normalized[i])\n",
        "\n",
        "inversed = scaler.inverse_transform(normalized)\n",
        "for i in range(5):\n",
        "    print(inversed[i])"
      ],
      "execution_count": null,
      "outputs": [
        {
          "output_type": "stream",
          "text": [
            "Mean: 18.370300, StandardDeviation: 6.088161\n",
            "[0.41551133]\n",
            "[0.36623537]\n",
            "[0.33338473]\n",
            "[0.21840749]\n",
            "[-0.53715725]\n",
            "[20.9]\n",
            "[20.6]\n",
            "[20.4]\n",
            "[19.7]\n",
            "[15.1]\n"
          ],
          "name": "stdout"
        }
      ]
    },
    {
      "cell_type": "markdown",
      "metadata": {
        "id": "hugE-vH057DJ"
      },
      "source": [
        "\n",
        "\n",
        "---\n",
        "\n",
        "---\n",
        "\n",
        "\n",
        "# Задание\n"
      ]
    },
    {
      "cell_type": "markdown",
      "metadata": {
        "id": "iMJu34dGsaq6"
      },
      "source": [
        "# Импорт и обработка данных"
      ]
    },
    {
      "cell_type": "code",
      "metadata": {
        "id": "OWVLU3MakdpB"
      },
      "source": [
        "import requests\n",
        "import pandas as pd\n",
        "import matplotlib.pyplot as plt\n",
        " \n",
        "url='http://pogoda-service.ru/archive_gsod_res.php?country=GR&station=167263&datepicker_beg=01.12.2010&datepicker_end=01.12.2020&bsubmit=%D0%9F%D0%BE%D1%81%D0%BC%D0%BE%D1%82%D1%80%D0%B5%D1%82%D1%8C'\n",
        "req=requests.get(url)\n",
        "data=pd.read_html(req.text, header=0, index_col=0)\n",
        "df=data[0]"
      ],
      "execution_count": null,
      "outputs": []
    },
    {
      "cell_type": "code",
      "metadata": {
        "colab": {
          "base_uri": "https://localhost:8080/",
          "height": 242
        },
        "id": "tJOnreECw5J1",
        "outputId": "7b25a22f-b52b-4952-c698-d74f1ec3d28e"
      },
      "source": [
        "df.head()"
      ],
      "execution_count": null,
      "outputs": [
        {
          "output_type": "execute_result",
          "data": {
            "text/html": [
              "<div>\n",
              "<style scoped>\n",
              "    .dataframe tbody tr th:only-of-type {\n",
              "        vertical-align: middle;\n",
              "    }\n",
              "\n",
              "    .dataframe tbody tr th {\n",
              "        vertical-align: top;\n",
              "    }\n",
              "\n",
              "    .dataframe thead th {\n",
              "        text-align: right;\n",
              "    }\n",
              "</style>\n",
              "<table border=\"1\" class=\"dataframe\">\n",
              "  <thead>\n",
              "    <tr style=\"text-align: right;\">\n",
              "      <th></th>\n",
              "      <th>ÐÐ°ÐºÑÐ¸Ð¼Ð°Ð»ÑÐ½Ð°Ñ ÑÐµÐ¼Ð¿ÐµÑÐ°ÑÑÑÐ°</th>\n",
              "      <th>ÐÐ¸Ð½Ð¸Ð¼Ð°Ð»ÑÐ½Ð°Ñ ÑÐµÐ¼Ð¿ÐµÑÐ°ÑÑÑÐ°</th>\n",
              "      <th>Ð¡ÑÐµÐ´Ð½ÑÑ ÑÐµÐ¼Ð¿ÐµÑÐ°ÑÑÑÐ°</th>\n",
              "      <th>ÐÑÐ¼Ð¾ÑÑÐµÑÐ½Ð¾Ðµ Ð´Ð°Ð²Ð»ÐµÐ½Ð¸Ðµ</th>\n",
              "      <th>Ð¡ÐºÐ¾ÑÐ¾ÑÑÑ Ð²ÐµÑÑÐ°</th>\n",
              "      <th>ÐÑÐ°Ð´ÐºÐ¸</th>\n",
              "      <th>Ð­ÑÑÐµÐºÑÐ¸Ð²Ð½Ð°Ñ ÑÐµÐ¼Ð¿ÐµÑÐ°ÑÑÑÐ°</th>\n",
              "    </tr>\n",
              "    <tr>\n",
              "      <th>ÐÐ°ÑÐ°</th>\n",
              "      <th></th>\n",
              "      <th></th>\n",
              "      <th></th>\n",
              "      <th></th>\n",
              "      <th></th>\n",
              "      <th></th>\n",
              "      <th></th>\n",
              "    </tr>\n",
              "  </thead>\n",
              "  <tbody>\n",
              "    <tr>\n",
              "      <th>01.12.2010</th>\n",
              "      <td>23.0</td>\n",
              "      <td>19.0</td>\n",
              "      <td>20.9</td>\n",
              "      <td>NaN</td>\n",
              "      <td>5</td>\n",
              "      <td>0.0</td>\n",
              "      <td>18.8</td>\n",
              "    </tr>\n",
              "    <tr>\n",
              "      <th>02.12.2010</th>\n",
              "      <td>22.0</td>\n",
              "      <td>19.0</td>\n",
              "      <td>20.6</td>\n",
              "      <td>NaN</td>\n",
              "      <td>4</td>\n",
              "      <td>0.0</td>\n",
              "      <td>19.7</td>\n",
              "    </tr>\n",
              "    <tr>\n",
              "      <th>03.12.2010</th>\n",
              "      <td>22.0</td>\n",
              "      <td>18.0</td>\n",
              "      <td>20.4</td>\n",
              "      <td>NaN</td>\n",
              "      <td>5</td>\n",
              "      <td>0.0</td>\n",
              "      <td>19.0</td>\n",
              "    </tr>\n",
              "    <tr>\n",
              "      <th>04.12.2010</th>\n",
              "      <td>21.0</td>\n",
              "      <td>18.0</td>\n",
              "      <td>19.7</td>\n",
              "      <td>NaN</td>\n",
              "      <td>7</td>\n",
              "      <td>0.0</td>\n",
              "      <td>16.6</td>\n",
              "    </tr>\n",
              "    <tr>\n",
              "      <th>05.12.2010</th>\n",
              "      <td>16.0</td>\n",
              "      <td>14.0</td>\n",
              "      <td>15.1</td>\n",
              "      <td>NaN</td>\n",
              "      <td>7</td>\n",
              "      <td>0.0</td>\n",
              "      <td>10.2</td>\n",
              "    </tr>\n",
              "  </tbody>\n",
              "</table>\n",
              "</div>"
            ],
            "text/plain": [
              "            ÐÐ°ÐºÑÐ¸Ð¼Ð°Ð»ÑÐ½Ð°Ñ ÑÐµÐ¼Ð¿ÐµÑÐ°ÑÑÑÐ°  ...  Ð­ÑÑÐµÐºÑÐ¸Ð²Ð½Ð°Ñ ÑÐµÐ¼Ð¿ÐµÑÐ°ÑÑÑÐ°\n",
              "ÐÐ°ÑÐ°                                                     ...                                               \n",
              "01.12.2010                                             23.0  ...                                           18.8\n",
              "02.12.2010                                             22.0  ...                                           19.7\n",
              "03.12.2010                                             22.0  ...                                           19.0\n",
              "04.12.2010                                             21.0  ...                                           16.6\n",
              "05.12.2010                                             16.0  ...                                           10.2\n",
              "\n",
              "[5 rows x 7 columns]"
            ]
          },
          "metadata": {
            "tags": []
          },
          "execution_count": 2
        }
      ]
    },
    {
      "cell_type": "code",
      "metadata": {
        "colab": {
          "base_uri": "https://localhost:8080/"
        },
        "id": "J6r7FhAMwfYp",
        "outputId": "5d58b297-2460-4a31-b004-ceac579f7ab8"
      },
      "source": [
        "df.info()"
      ],
      "execution_count": null,
      "outputs": [
        {
          "output_type": "stream",
          "text": [
            "<class 'pandas.core.frame.DataFrame'>\n",
            "Index: 1000 entries, 01.12.2010 to 27.08.2013\n",
            "Data columns (total 7 columns):\n",
            " #   Column                                           Non-Null Count  Dtype  \n",
            "---  ------                                           --------------  -----  \n",
            " 0   ÐÐ°ÐºÑÐ¸Ð¼Ð°Ð»ÑÐ½Ð°Ñ ÑÐµÐ¼Ð¿ÐµÑÐ°ÑÑÑÐ°  995 non-null    float64\n",
            " 1   ÐÐ¸Ð½Ð¸Ð¼Ð°Ð»ÑÐ½Ð°Ñ ÑÐµÐ¼Ð¿ÐµÑÐ°ÑÑÑÐ°    995 non-null    float64\n",
            " 2   Ð¡ÑÐµÐ´Ð½ÑÑ ÑÐµÐ¼Ð¿ÐµÑÐ°ÑÑÑÐ°            1000 non-null   float64\n",
            " 3   ÐÑÐ¼Ð¾ÑÑÐµÑÐ½Ð¾Ðµ Ð´Ð°Ð²Ð»ÐµÐ½Ð¸Ðµ          0 non-null      float64\n",
            " 4   Ð¡ÐºÐ¾ÑÐ¾ÑÑÑ Ð²ÐµÑÑÐ°                      1000 non-null   int64  \n",
            " 5   ÐÑÐ°Ð´ÐºÐ¸                                     867 non-null    float64\n",
            " 6   Ð­ÑÑÐµÐºÑÐ¸Ð²Ð½Ð°Ñ ÑÐµÐ¼Ð¿ÐµÑÐ°ÑÑÑÐ°    1000 non-null   float64\n",
            "dtypes: float64(6), int64(1)\n",
            "memory usage: 62.5+ KB\n"
          ],
          "name": "stdout"
        }
      ]
    },
    {
      "cell_type": "code",
      "metadata": {
        "id": "VC9Y6YpbuPoy"
      },
      "source": [
        "df.drop(['ÐÐ¸Ð½Ð¸Ð¼Ð°Ð»ÑÐ½Ð°Ñ ÑÐµÐ¼Ð¿ÐµÑÐ°ÑÑÑÐ°', 'Ð¡ÑÐµÐ´Ð½ÑÑ ÑÐµÐ¼Ð¿ÐµÑÐ°ÑÑÑÐ°', 'ÐÑÐ¼Ð¾ÑÑÐµÑÐ½Ð¾Ðµ Ð´Ð°Ð²Ð»ÐµÐ½Ð¸Ðµ', 'Ð¡ÐºÐ¾ÑÐ¾ÑÑÑ Ð²ÐµÑÑÐ°', 'ÐÑÐ°Ð´ÐºÐ¸', 'Ð­ÑÑÐµÐºÑÐ¸Ð²Ð½Ð°Ñ ÑÐµÐ¼Ð¿ÐµÑÐ°ÑÑÑÐ°'], axis=1, inplace=True)"
      ],
      "execution_count": null,
      "outputs": []
    },
    {
      "cell_type": "code",
      "metadata": {
        "colab": {
          "base_uri": "https://localhost:8080/",
          "height": 225
        },
        "id": "toRYcbwwAkL-",
        "outputId": "a289ef29-cb37-42a0-84a5-be9b90ae41d2"
      },
      "source": [
        "df.head()"
      ],
      "execution_count": null,
      "outputs": [
        {
          "output_type": "execute_result",
          "data": {
            "text/html": [
              "<div>\n",
              "<style scoped>\n",
              "    .dataframe tbody tr th:only-of-type {\n",
              "        vertical-align: middle;\n",
              "    }\n",
              "\n",
              "    .dataframe tbody tr th {\n",
              "        vertical-align: top;\n",
              "    }\n",
              "\n",
              "    .dataframe thead th {\n",
              "        text-align: right;\n",
              "    }\n",
              "</style>\n",
              "<table border=\"1\" class=\"dataframe\">\n",
              "  <thead>\n",
              "    <tr style=\"text-align: right;\">\n",
              "      <th></th>\n",
              "      <th>ÐÐ°ÐºÑÐ¸Ð¼Ð°Ð»ÑÐ½Ð°Ñ ÑÐµÐ¼Ð¿ÐµÑÐ°ÑÑÑÐ°</th>\n",
              "    </tr>\n",
              "    <tr>\n",
              "      <th>ÐÐ°ÑÐ°</th>\n",
              "      <th></th>\n",
              "    </tr>\n",
              "  </thead>\n",
              "  <tbody>\n",
              "    <tr>\n",
              "      <th>01.12.2010</th>\n",
              "      <td>23.0</td>\n",
              "    </tr>\n",
              "    <tr>\n",
              "      <th>02.12.2010</th>\n",
              "      <td>22.0</td>\n",
              "    </tr>\n",
              "    <tr>\n",
              "      <th>03.12.2010</th>\n",
              "      <td>22.0</td>\n",
              "    </tr>\n",
              "    <tr>\n",
              "      <th>04.12.2010</th>\n",
              "      <td>21.0</td>\n",
              "    </tr>\n",
              "    <tr>\n",
              "      <th>05.12.2010</th>\n",
              "      <td>16.0</td>\n",
              "    </tr>\n",
              "  </tbody>\n",
              "</table>\n",
              "</div>"
            ],
            "text/plain": [
              "            ÐÐ°ÐºÑÐ¸Ð¼Ð°Ð»ÑÐ½Ð°Ñ ÑÐµÐ¼Ð¿ÐµÑÐ°ÑÑÑÐ°\n",
              "ÐÐ°ÑÐ°                                                   \n",
              "01.12.2010                                             23.0\n",
              "02.12.2010                                             22.0\n",
              "03.12.2010                                             22.0\n",
              "04.12.2010                                             21.0\n",
              "05.12.2010                                             16.0"
            ]
          },
          "metadata": {
            "tags": []
          },
          "execution_count": 5
        }
      ]
    },
    {
      "cell_type": "code",
      "metadata": {
        "id": "YADU6-q4Aqrz"
      },
      "source": [
        "df.index.name = 'Date'\n",
        "df.columns=['t`C mean']"
      ],
      "execution_count": null,
      "outputs": []
    },
    {
      "cell_type": "code",
      "metadata": {
        "colab": {
          "base_uri": "https://localhost:8080/",
          "height": 225
        },
        "id": "r8lTuFw2BmeS",
        "outputId": "3faa4782-058a-4795-ee48-fc486a7dff37"
      },
      "source": [
        "df.head()"
      ],
      "execution_count": null,
      "outputs": [
        {
          "output_type": "execute_result",
          "data": {
            "text/html": [
              "<div>\n",
              "<style scoped>\n",
              "    .dataframe tbody tr th:only-of-type {\n",
              "        vertical-align: middle;\n",
              "    }\n",
              "\n",
              "    .dataframe tbody tr th {\n",
              "        vertical-align: top;\n",
              "    }\n",
              "\n",
              "    .dataframe thead th {\n",
              "        text-align: right;\n",
              "    }\n",
              "</style>\n",
              "<table border=\"1\" class=\"dataframe\">\n",
              "  <thead>\n",
              "    <tr style=\"text-align: right;\">\n",
              "      <th></th>\n",
              "      <th>t`C mean</th>\n",
              "    </tr>\n",
              "    <tr>\n",
              "      <th>Date</th>\n",
              "      <th></th>\n",
              "    </tr>\n",
              "  </thead>\n",
              "  <tbody>\n",
              "    <tr>\n",
              "      <th>01.12.2010</th>\n",
              "      <td>23.0</td>\n",
              "    </tr>\n",
              "    <tr>\n",
              "      <th>02.12.2010</th>\n",
              "      <td>22.0</td>\n",
              "    </tr>\n",
              "    <tr>\n",
              "      <th>03.12.2010</th>\n",
              "      <td>22.0</td>\n",
              "    </tr>\n",
              "    <tr>\n",
              "      <th>04.12.2010</th>\n",
              "      <td>21.0</td>\n",
              "    </tr>\n",
              "    <tr>\n",
              "      <th>05.12.2010</th>\n",
              "      <td>16.0</td>\n",
              "    </tr>\n",
              "  </tbody>\n",
              "</table>\n",
              "</div>"
            ],
            "text/plain": [
              "            t`C mean\n",
              "Date                \n",
              "01.12.2010      23.0\n",
              "02.12.2010      22.0\n",
              "03.12.2010      22.0\n",
              "04.12.2010      21.0\n",
              "05.12.2010      16.0"
            ]
          },
          "metadata": {
            "tags": []
          },
          "execution_count": 15
        }
      ]
    },
    {
      "cell_type": "code",
      "metadata": {
        "colab": {
          "base_uri": "https://localhost:8080/",
          "height": 284
        },
        "id": "ugvIWg5sn3IB",
        "outputId": "948c188f-ca0c-4bc3-e561-8230a267d8ff"
      },
      "source": [
        "df.describe()"
      ],
      "execution_count": null,
      "outputs": [
        {
          "output_type": "execute_result",
          "data": {
            "text/html": [
              "<div>\n",
              "<style scoped>\n",
              "    .dataframe tbody tr th:only-of-type {\n",
              "        vertical-align: middle;\n",
              "    }\n",
              "\n",
              "    .dataframe tbody tr th {\n",
              "        vertical-align: top;\n",
              "    }\n",
              "\n",
              "    .dataframe thead th {\n",
              "        text-align: right;\n",
              "    }\n",
              "</style>\n",
              "<table border=\"1\" class=\"dataframe\">\n",
              "  <thead>\n",
              "    <tr style=\"text-align: right;\">\n",
              "      <th></th>\n",
              "      <th>t`C mean</th>\n",
              "    </tr>\n",
              "  </thead>\n",
              "  <tbody>\n",
              "    <tr>\n",
              "      <th>count</th>\n",
              "      <td>995.000000</td>\n",
              "    </tr>\n",
              "    <tr>\n",
              "      <th>mean</th>\n",
              "      <td>20.203015</td>\n",
              "    </tr>\n",
              "    <tr>\n",
              "      <th>std</th>\n",
              "      <td>6.526297</td>\n",
              "    </tr>\n",
              "    <tr>\n",
              "      <th>min</th>\n",
              "      <td>3.000000</td>\n",
              "    </tr>\n",
              "    <tr>\n",
              "      <th>25%</th>\n",
              "      <td>15.000000</td>\n",
              "    </tr>\n",
              "    <tr>\n",
              "      <th>50%</th>\n",
              "      <td>20.000000</td>\n",
              "    </tr>\n",
              "    <tr>\n",
              "      <th>75%</th>\n",
              "      <td>26.000000</td>\n",
              "    </tr>\n",
              "    <tr>\n",
              "      <th>max</th>\n",
              "      <td>34.000000</td>\n",
              "    </tr>\n",
              "  </tbody>\n",
              "</table>\n",
              "</div>"
            ],
            "text/plain": [
              "         t`C mean\n",
              "count  995.000000\n",
              "mean    20.203015\n",
              "std      6.526297\n",
              "min      3.000000\n",
              "25%     15.000000\n",
              "50%     20.000000\n",
              "75%     26.000000\n",
              "max     34.000000"
            ]
          },
          "metadata": {
            "tags": []
          },
          "execution_count": 16
        }
      ]
    },
    {
      "cell_type": "markdown",
      "metadata": {
        "id": "2cGu8bAE6UqM"
      },
      "source": [
        "# Стандартизация и нормализация временных рядов"
      ]
    },
    {
      "cell_type": "code",
      "metadata": {
        "colab": {
          "base_uri": "https://localhost:8080/"
        },
        "id": "_H01G8E-sq2p",
        "outputId": "db8ad5ca-c0d5-46fd-812e-f4f445a9e8d7"
      },
      "source": [
        "from pandas import read_csv\n",
        "from sklearn.preprocessing import MinMaxScaler\n",
        "print(df.head())\n",
        " \n",
        "values = df.values\n",
        "values = values.reshape((len(values), 1))\n",
        " \n",
        "scaler = MinMaxScaler(feature_range=(0,1))\n",
        "scaler = scaler.fit(values)\n",
        "print('Min: %f, Max: %f' % (scaler.data_min_, scaler.data_max_))\n",
        " \n",
        "normalized = scaler.transform(values)\n",
        "for i in range(5):\n",
        "    print(normalized[i])\n",
        " \n",
        "inversed = scaler.inverse_transform(normalized)\n",
        "for i in range(5):\n",
        "    print(inversed[i])"
      ],
      "execution_count": null,
      "outputs": [
        {
          "output_type": "stream",
          "text": [
            "            t`C mean\n",
            "Date                \n",
            "01.12.2010      23.0\n",
            "02.12.2010      22.0\n",
            "03.12.2010      22.0\n",
            "04.12.2010      21.0\n",
            "05.12.2010      16.0\n",
            "Min: 3.000000, Max: 34.000000\n",
            "[0.64516129]\n",
            "[0.61290323]\n",
            "[0.61290323]\n",
            "[0.58064516]\n",
            "[0.41935484]\n",
            "[23.]\n",
            "[22.]\n",
            "[22.]\n",
            "[21.]\n",
            "[16.]\n"
          ],
          "name": "stdout"
        }
      ]
    },
    {
      "cell_type": "code",
      "metadata": {
        "colab": {
          "base_uri": "https://localhost:8080/",
          "height": 281
        },
        "id": "2GBQIJbFsq2u",
        "outputId": "b232695d-50f4-404d-a1c0-04e02955422f"
      },
      "source": [
        "from matplotlib import pyplot\n",
        "df.hist()\n",
        "pyplot.show()"
      ],
      "execution_count": null,
      "outputs": [
        {
          "output_type": "display_data",
          "data": {
            "image/png": "[encoded data removed]",
            "text/plain": [
              "<Figure size 432x288 with 1 Axes>"
            ]
          },
          "metadata": {
            "tags": [],
            "needs_background": "light"
          }
        }
      ]
    },
    {
      "cell_type": "code",
      "metadata": {
        "colab": {
          "base_uri": "https://localhost:8080/"
        },
        "id": "pK74cVYgqFaa",
        "outputId": "559ec4cb-98a4-434f-e3e9-f2c091f8c9d4"
      },
      "source": [
        "from sklearn.preprocessing import StandardScaler\n",
        "from math import sqrt\n",
        "print(df.head())\n",
        "\n",
        " \n",
        "values = df.values\n",
        "values = values.reshape((len(values), 1))\n",
        " \n",
        "scaler = StandardScaler()\n",
        "scaler = scaler.fit(values)\n",
        "print('Mean: %f, StandardDeviation: %f' % (scaler.mean_, sqrt(scaler.var_)))\n",
        " \n",
        "normalized = scaler.transform(values)\n",
        "for i in range(5):\n",
        "    print(normalized[i])\n",
        " \n",
        "inversed = scaler.inverse_transform(normalized)\n",
        "for i in range(5):\n",
        "    print(inversed[i])"
      ],
      "execution_count": null,
      "outputs": [
        {
          "output_type": "stream",
          "text": [
            "            t`C mean\n",
            "Date                \n",
            "01.12.2010      23.0\n",
            "02.12.2010      22.0\n",
            "03.12.2010      22.0\n",
            "04.12.2010      21.0\n",
            "05.12.2010      16.0\n",
            "Mean: 20.203015, StandardDeviation: 6.523016\n",
            "[0.42878706]\n",
            "[0.27548375]\n",
            "[0.27548375]\n",
            "[0.12218043]\n",
            "[-0.64433614]\n",
            "[23.]\n",
            "[22.]\n",
            "[22.]\n",
            "[21.]\n",
            "[16.]\n"
          ],
          "name": "stdout"
        }
      ]
    },
    {
      "cell_type": "markdown",
      "metadata": {
        "id": "yR2yYMaJunbM"
      },
      "source": [
        "# Результат"
      ]
    },
    {
      "cell_type": "markdown",
      "metadata": {
        "id": "At13gK5NEBQd"
      },
      "source": [
        "![image.png](data:image/png;base64,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)"
      ]
    },
    {
      "cell_type": "code",
      "metadata": {
        "id": "uFQ5b2l7EC7P"
      },
      "source": [
        ""
      ],
      "execution_count": null,
      "outputs": []
    }
  ]
}