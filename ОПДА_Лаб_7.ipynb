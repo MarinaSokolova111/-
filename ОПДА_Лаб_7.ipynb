{
  "nbformat": 4,
  "nbformat_minor": 0,
  "metadata": {
    "colab": {
      "name": "ОПДА Лаб 7",
      "provenance": [],
      "toc_visible": true,
      "authorship_tag": "ABX9TyPTBFvdUtutJFFhwgiZfU2R",
      "include_colab_link": true
    },
    "kernelspec": {
      "name": "python3",
      "display_name": "Python 3"
    },
    "language_info": {
      "name": "python"
    }
  },
  "cells": [
    {
      "cell_type": "markdown",
      "metadata": {
        "id": "view-in-github",
        "colab_type": "text"
      },
      "source": [
        "<a href=\"https://colab.research.google.com/github/MarinaSokolova111/OPDA/blob/main/%D0%9E%D0%9F%D0%94%D0%90_%D0%9B%D0%B0%D0%B1_7.ipynb\" target=\"_parent\"><img src=\"https://colab.research.google.com/assets/colab-badge.svg\" alt=\"Open In Colab\"/></a>"
      ]
    },
    {
      "cell_type": "markdown",
      "metadata": {
        "id": "UbGvFM5tlogK"
      },
      "source": [
        "# Пример"
      ]
    },
    {
      "cell_type": "code",
      "metadata": {
        "colab": {
          "resources": {
            "http://localhost:8080/nbextensions/google.colab/files.js": {
              "data": "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",
              "ok": true,
              "headers": [
                [
                  "content-type",
                  "application/javascript"
                ]
              ],
              "status": 200,
              "status_text": ""
            }
          },
          "base_uri": "https://localhost:8080/",
          "height": 56
        },
        "id": "bTfPDt9XmP4K",
        "outputId": "78c635e4-5523-43bd-b6e8-bff9cc327468"
      },
      "source": [
        "from google.colab import files\n",
        "uploaded = files.upload()"
      ],
      "execution_count": null,
      "outputs": [
        {
          "output_type": "display_data",
          "data": {
            "text/html": [
              "\n",
              "     <input type=\"file\" id=\"files-4327e3cc-3034-4e76-baf8-fe70501a79f8\" name=\"files[]\" multiple disabled\n",
              "        style=\"border:none\" />\n",
              "     <output id=\"result-4327e3cc-3034-4e76-baf8-fe70501a79f8\">\n",
              "      Upload widget is only available when the cell has been executed in the\n",
              "      current browser session. Please rerun this cell to enable.\n",
              "      </output>\n",
              "      <script src=\"/nbextensions/google.colab/files.js\"></script> "
            ],
            "text/plain": [
              "<IPython.core.display.HTML object>"
            ]
          },
          "metadata": {
            "tags": []
          }
        },
        {
          "output_type": "stream",
          "text": [
            "Saving dataset7.xls to dataset7 (1).xls\n"
          ],
          "name": "stdout"
        }
      ]
    },
    {
      "cell_type": "code",
      "metadata": {
        "colab": {
          "base_uri": "https://localhost:8080/"
        },
        "id": "E7jwdqz0rr8A",
        "outputId": "cfb08504-8834-4eab-dfec-11da7711604b"
      },
      "source": [
        "data.info()"
      ],
      "execution_count": null,
      "outputs": [
        {
          "output_type": "stream",
          "text": [
            "<class 'pandas.core.frame.DataFrame'>\n",
            "Index: 3650 entries, 1981-01-01 to 1990-12-31\n",
            "Data columns (total 1 columns):\n",
            " #   Column  Non-Null Count  Dtype  \n",
            "---  ------  --------------  -----  \n",
            " 0   Temp    3650 non-null   float64\n",
            "dtypes: float64(1)\n",
            "memory usage: 57.0+ KB\n"
          ],
          "name": "stdout"
        }
      ]
    },
    {
      "cell_type": "code",
      "metadata": {
        "colab": {
          "base_uri": "https://localhost:8080/"
        },
        "id": "3e9AYOd6lsDr",
        "outputId": "d03e95dc-c6fc-4531-a792-099738408192"
      },
      "source": [
        "from pandas import read_csv\n",
        "from sklearn.preprocessing import MinMaxScaler\n",
        "data = read_csv('dataset7.xls', header=0, index_col=0)\n",
        "print(data.head())\n",
        "\n",
        "values = data.values\n",
        "values = values.reshape((len(values), 1))\n",
        "\n",
        "scaler = MinMaxScaler(feature_range=(0,1))\n",
        "scaler = scaler.fit(values)\n",
        "print('Min: %f, Max: %f' % (scaler.data_min_, scaler.data_max_))\n",
        "\n",
        "normalized = scaler.transform(values)\n",
        "for i in range(5):\n",
        "    print(normalized[i])\n",
        "\n",
        "inversed = scaler.inverse_transform(normalized)\n",
        "for i in range(5):\n",
        "    print(inversed[i])"
      ],
      "execution_count": null,
      "outputs": [
        {
          "output_type": "stream",
          "text": [
            "            Temp\n",
            "Date            \n",
            "1981-01-01  20.7\n",
            "1981-01-02  17.9\n",
            "1981-01-03  18.8\n",
            "1981-01-04  14.6\n",
            "1981-01-05  15.8\n",
            "Min: 0.000000, Max: 26.300000\n",
            "[0.78707224]\n",
            "[0.68060837]\n",
            "[0.7148289]\n",
            "[0.55513308]\n",
            "[0.60076046]\n",
            "[20.7]\n",
            "[17.9]\n",
            "[18.8]\n",
            "[14.6]\n",
            "[15.8]\n"
          ],
          "name": "stdout"
        }
      ]
    },
    {
      "cell_type": "code",
      "metadata": {
        "colab": {
          "base_uri": "https://localhost:8080/",
          "height": 281
        },
        "id": "hVJgNIvOpZtn",
        "outputId": "93fcafc9-be98-4552-e318-5a698b5649ff"
      },
      "source": [
        "from pandas import read_csv\n",
        "from matplotlib import pyplot\n",
        "df = read_csv('dataset7.xls', header=0, index_col=0)\n",
        "df.hist()\n",
        "pyplot.show()"
      ],
      "execution_count": null,
      "outputs": [
        {
          "output_type": "display_data",
          "data": {
            "image/png": "[encoded data removed]",
            "text/plain": [
              "<Figure size 432x288 with 1 Axes>"
            ]
          },
          "metadata": {
            "tags": [],
            "needs_background": "light"
          }
        }
      ]
    },
    {
      "cell_type": "code",
      "metadata": {
        "colab": {
          "base_uri": "https://localhost:8080/"
        },
        "id": "FldTPsIqsq2w",
        "outputId": "c8fe04d3-e02c-44b8-fd66-a93dfc1340c9"
      },
      "source": [
        "from sklearn.preprocessing import StandardScaler\n",
        "from math import sqrt\n",
        "\n",
        "values = df.values\n",
        "values = values.reshape((len(values), 1))\n",
        "\n",
        "scaler = StandardScaler()\n",
        "scaler = scaler.fit(values)\n",
        "print('Mean: %f, StandardDeviation: %f' % (scaler.mean_, sqrt(scaler.var_)))\n",
        "\n",
        "normalized = scaler.transform(values)\n",
        "for i in range(5):\n",
        "    print(normalized[i])\n",
        "\n",
        "inversed = scaler.inverse_transform(normalized)\n",
        "for i in range(5):\n",
        "    print(inversed[i])"
      ],
      "execution_count": null,
      "outputs": [
        {
          "output_type": "stream",
          "text": [
            "Mean: 18.370300, StandardDeviation: 6.088161\n",
            "[0.41551133]\n",
            "[0.36623537]\n",
            "[0.33338473]\n",
            "[0.21840749]\n",
            "[-0.53715725]\n",
            "[20.9]\n",
            "[20.6]\n",
            "[20.4]\n",
            "[19.7]\n",
            "[15.1]\n"
          ],
          "name": "stdout"
        }
      ]
    },
    {
      "cell_type": "markdown",
      "metadata": {
        "id": "hugE-vH057DJ"
      },
      "source": [
        "\n",
        "\n",
        "---\n",
        "\n",
        "---\n",
        "\n",
        "\n",
        "# Задание\n"
      ]
    },
    {
      "cell_type": "markdown",
      "metadata": {
        "id": "iMJu34dGsaq6"
      },
      "source": [
        "# Импорт и обработка данных"
      ]
    },
    {
      "cell_type": "code",
      "metadata": {
        "colab": {
          "base_uri": "https://localhost:8080/",
          "height": 232
        },
        "id": "OWVLU3MakdpB",
        "outputId": "3ea9f783-189e-46a0-f0af-f2dffd39fd58"
      },
      "source": [
        "import requests\n",
        "import pandas as pd\n",
        "import matplotlib.pyplot as plt\n",
        "\n",
        "url='http://pogoda-service.ru/archive_gsod_res.php?country=GR&station=167263&datepicker_beg=01.12.2010&datepicker_end=01.12.2020&bsubmit=%D0%9F%D0%BE%D1%81%D0%BC%D0%BE%D1%82%D1%80%D0%B5%D1%82%D1%8C'\n",
        "req=requests.get(url)\n",
        "data=pd.read_html(req.text, )\n",
        "df=data[0]\n",
        "df.head()"
      ],
      "execution_count": 1,
      "outputs": [
        {
          "output_type": "execute_result",
          "data": {
            "text/html": [
              "<div>\n",
              "<style scoped>\n",
              "    .dataframe tbody tr th:only-of-type {\n",
              "        vertical-align: middle;\n",
              "    }\n",
              "\n",
              "    .dataframe tbody tr th {\n",
              "        vertical-align: top;\n",
              "    }\n",
              "\n",
              "    .dataframe thead th {\n",
              "        text-align: right;\n",
              "    }\n",
              "</style>\n",
              "<table border=\"1\" class=\"dataframe\">\n",
              "  <thead>\n",
              "    <tr style=\"text-align: right;\">\n",
              "      <th></th>\n",
              "      <th>ÐÐ°ÑÐ°</th>\n",
              "      <th>ÐÐ°ÐºÑÐ¸Ð¼Ð°Ð»ÑÐ½Ð°Ñ ÑÐµÐ¼Ð¿ÐµÑÐ°ÑÑÑÐ°</th>\n",
              "      <th>ÐÐ¸Ð½Ð¸Ð¼Ð°Ð»ÑÐ½Ð°Ñ ÑÐµÐ¼Ð¿ÐµÑÐ°ÑÑÑÐ°</th>\n",
              "      <th>Ð¡ÑÐµÐ´Ð½ÑÑ ÑÐµÐ¼Ð¿ÐµÑÐ°ÑÑÑÐ°</th>\n",
              "      <th>ÐÑÐ¼Ð¾ÑÑÐµÑÐ½Ð¾Ðµ Ð´Ð°Ð²Ð»ÐµÐ½Ð¸Ðµ</th>\n",
              "      <th>Ð¡ÐºÐ¾ÑÐ¾ÑÑÑ Ð²ÐµÑÑÐ°</th>\n",
              "      <th>ÐÑÐ°Ð´ÐºÐ¸</th>\n",
              "      <th>Ð­ÑÑÐµÐºÑÐ¸Ð²Ð½Ð°Ñ ÑÐµÐ¼Ð¿ÐµÑÐ°ÑÑÑÐ°</th>\n",
              "    </tr>\n",
              "  </thead>\n",
              "  <tbody>\n",
              "    <tr>\n",
              "      <th>0</th>\n",
              "      <td>01.12.2010</td>\n",
              "      <td>23.0</td>\n",
              "      <td>19.0</td>\n",
              "      <td>20.9</td>\n",
              "      <td>NaN</td>\n",
              "      <td>5</td>\n",
              "      <td>0.0</td>\n",
              "      <td>18.8</td>\n",
              "    </tr>\n",
              "    <tr>\n",
              "      <th>1</th>\n",
              "      <td>02.12.2010</td>\n",
              "      <td>22.0</td>\n",
              "      <td>19.0</td>\n",
              "      <td>20.6</td>\n",
              "      <td>NaN</td>\n",
              "      <td>4</td>\n",
              "      <td>0.0</td>\n",
              "      <td>19.7</td>\n",
              "    </tr>\n",
              "    <tr>\n",
              "      <th>2</th>\n",
              "      <td>03.12.2010</td>\n",
              "      <td>22.0</td>\n",
              "      <td>18.0</td>\n",
              "      <td>20.4</td>\n",
              "      <td>NaN</td>\n",
              "      <td>5</td>\n",
              "      <td>0.0</td>\n",
              "      <td>19.0</td>\n",
              "    </tr>\n",
              "    <tr>\n",
              "      <th>3</th>\n",
              "      <td>04.12.2010</td>\n",
              "      <td>21.0</td>\n",
              "      <td>18.0</td>\n",
              "      <td>19.7</td>\n",
              "      <td>NaN</td>\n",
              "      <td>7</td>\n",
              "      <td>0.0</td>\n",
              "      <td>16.6</td>\n",
              "    </tr>\n",
              "    <tr>\n",
              "      <th>4</th>\n",
              "      <td>05.12.2010</td>\n",
              "      <td>16.0</td>\n",
              "      <td>14.0</td>\n",
              "      <td>15.1</td>\n",
              "      <td>NaN</td>\n",
              "      <td>7</td>\n",
              "      <td>0.0</td>\n",
              "      <td>10.2</td>\n",
              "    </tr>\n",
              "  </tbody>\n",
              "</table>\n",
              "</div>"
            ],
            "text/plain": [
              "     ÐÐ°ÑÐ°  ...  Ð­ÑÑÐµÐºÑÐ¸Ð²Ð½Ð°Ñ ÑÐµÐ¼Ð¿ÐµÑÐ°ÑÑÑÐ°\n",
              "0  01.12.2010  ...                                           18.8\n",
              "1  02.12.2010  ...                                           19.7\n",
              "2  03.12.2010  ...                                           19.0\n",
              "3  04.12.2010  ...                                           16.6\n",
              "4  05.12.2010  ...                                           10.2\n",
              "\n",
              "[5 rows x 8 columns]"
            ]
          },
          "metadata": {
            "tags": []
          },
          "execution_count": 1
        }
      ]
    },
    {
      "cell_type": "code",
      "metadata": {
        "colab": {
          "base_uri": "https://localhost:8080/",
          "height": 232
        },
        "id": "tJOnreECw5J1",
        "outputId": "842fbef5-77b2-4f0a-ae08-c1cab1acf1d1"
      },
      "source": [
        "df.head()"
      ],
      "execution_count": 2,
      "outputs": [
        {
          "output_type": "execute_result",
          "data": {
            "text/html": [
              "<div>\n",
              "<style scoped>\n",
              "    .dataframe tbody tr th:only-of-type {\n",
              "        vertical-align: middle;\n",
              "    }\n",
              "\n",
              "    .dataframe tbody tr th {\n",
              "        vertical-align: top;\n",
              "    }\n",
              "\n",
              "    .dataframe thead th {\n",
              "        text-align: right;\n",
              "    }\n",
              "</style>\n",
              "<table border=\"1\" class=\"dataframe\">\n",
              "  <thead>\n",
              "    <tr style=\"text-align: right;\">\n",
              "      <th></th>\n",
              "      <th>ÐÐ°ÑÐ°</th>\n",
              "      <th>ÐÐ°ÐºÑÐ¸Ð¼Ð°Ð»ÑÐ½Ð°Ñ ÑÐµÐ¼Ð¿ÐµÑÐ°ÑÑÑÐ°</th>\n",
              "      <th>ÐÐ¸Ð½Ð¸Ð¼Ð°Ð»ÑÐ½Ð°Ñ ÑÐµÐ¼Ð¿ÐµÑÐ°ÑÑÑÐ°</th>\n",
              "      <th>Ð¡ÑÐµÐ´Ð½ÑÑ ÑÐµÐ¼Ð¿ÐµÑÐ°ÑÑÑÐ°</th>\n",
              "      <th>ÐÑÐ¼Ð¾ÑÑÐµÑÐ½Ð¾Ðµ Ð´Ð°Ð²Ð»ÐµÐ½Ð¸Ðµ</th>\n",
              "      <th>Ð¡ÐºÐ¾ÑÐ¾ÑÑÑ Ð²ÐµÑÑÐ°</th>\n",
              "      <th>ÐÑÐ°Ð´ÐºÐ¸</th>\n",
              "      <th>Ð­ÑÑÐµÐºÑÐ¸Ð²Ð½Ð°Ñ ÑÐµÐ¼Ð¿ÐµÑÐ°ÑÑÑÐ°</th>\n",
              "    </tr>\n",
              "  </thead>\n",
              "  <tbody>\n",
              "    <tr>\n",
              "      <th>0</th>\n",
              "      <td>01.12.2010</td>\n",
              "      <td>23.0</td>\n",
              "      <td>19.0</td>\n",
              "      <td>20.9</td>\n",
              "      <td>NaN</td>\n",
              "      <td>5</td>\n",
              "      <td>0.0</td>\n",
              "      <td>18.8</td>\n",
              "    </tr>\n",
              "    <tr>\n",
              "      <th>1</th>\n",
              "      <td>02.12.2010</td>\n",
              "      <td>22.0</td>\n",
              "      <td>19.0</td>\n",
              "      <td>20.6</td>\n",
              "      <td>NaN</td>\n",
              "      <td>4</td>\n",
              "      <td>0.0</td>\n",
              "      <td>19.7</td>\n",
              "    </tr>\n",
              "    <tr>\n",
              "      <th>2</th>\n",
              "      <td>03.12.2010</td>\n",
              "      <td>22.0</td>\n",
              "      <td>18.0</td>\n",
              "      <td>20.4</td>\n",
              "      <td>NaN</td>\n",
              "      <td>5</td>\n",
              "      <td>0.0</td>\n",
              "      <td>19.0</td>\n",
              "    </tr>\n",
              "    <tr>\n",
              "      <th>3</th>\n",
              "      <td>04.12.2010</td>\n",
              "      <td>21.0</td>\n",
              "      <td>18.0</td>\n",
              "      <td>19.7</td>\n",
              "      <td>NaN</td>\n",
              "      <td>7</td>\n",
              "      <td>0.0</td>\n",
              "      <td>16.6</td>\n",
              "    </tr>\n",
              "    <tr>\n",
              "      <th>4</th>\n",
              "      <td>05.12.2010</td>\n",
              "      <td>16.0</td>\n",
              "      <td>14.0</td>\n",
              "      <td>15.1</td>\n",
              "      <td>NaN</td>\n",
              "      <td>7</td>\n",
              "      <td>0.0</td>\n",
              "      <td>10.2</td>\n",
              "    </tr>\n",
              "  </tbody>\n",
              "</table>\n",
              "</div>"
            ],
            "text/plain": [
              "     ÐÐ°ÑÐ°  ...  Ð­ÑÑÐµÐºÑÐ¸Ð²Ð½Ð°Ñ ÑÐµÐ¼Ð¿ÐµÑÐ°ÑÑÑÐ°\n",
              "0  01.12.2010  ...                                           18.8\n",
              "1  02.12.2010  ...                                           19.7\n",
              "2  03.12.2010  ...                                           19.0\n",
              "3  04.12.2010  ...                                           16.6\n",
              "4  05.12.2010  ...                                           10.2\n",
              "\n",
              "[5 rows x 8 columns]"
            ]
          },
          "metadata": {
            "tags": []
          },
          "execution_count": 2
        }
      ]
    },
    {
      "cell_type": "code",
      "metadata": {
        "id": "VC9Y6YpbuPoy"
      },
      "source": [
        "df.drop(['ÐÐ°ÑÐ°', 'ÐÐ°ÐºÑÐ¸Ð¼Ð°Ð»ÑÐ½Ð°Ñ ÑÐµÐ¼Ð¿ÐµÑÐ°ÑÑÑÐ°', 'ÐÐ¸Ð½Ð¸Ð¼Ð°Ð»ÑÐ½Ð°Ñ ÑÐµÐ¼Ð¿ÐµÑÐ°ÑÑÑÐ°', 'ÐÑÐ¼Ð¾ÑÑÐµÑÐ½Ð¾Ðµ Ð´Ð°Ð²Ð»ÐµÐ½Ð¸Ðµ', 'Ð¡ÐºÐ¾ÑÐ¾ÑÑÑ Ð²ÐµÑÑÐ°', 'ÐÑÐ°Ð´ÐºÐ¸', 'Ð­ÑÑÐµÐºÑÐ¸Ð²Ð½Ð°Ñ ÑÐµÐ¼Ð¿ÐµÑÐ°ÑÑÑÐ°'], axis=1, inplace=True)\n",
        "df.columns=['t`C mean']"
      ],
      "execution_count": 3,
      "outputs": []
    },
    {
      "cell_type": "code",
      "metadata": {
        "colab": {
          "base_uri": "https://localhost:8080/",
          "height": 284
        },
        "id": "ugvIWg5sn3IB",
        "outputId": "8cf9daca-6f6d-48b8-e9bc-18f4ed33fe96"
      },
      "source": [
        "df.describe()"
      ],
      "execution_count": 4,
      "outputs": [
        {
          "output_type": "execute_result",
          "data": {
            "text/html": [
              "<div>\n",
              "<style scoped>\n",
              "    .dataframe tbody tr th:only-of-type {\n",
              "        vertical-align: middle;\n",
              "    }\n",
              "\n",
              "    .dataframe tbody tr th {\n",
              "        vertical-align: top;\n",
              "    }\n",
              "\n",
              "    .dataframe thead th {\n",
              "        text-align: right;\n",
              "    }\n",
              "</style>\n",
              "<table border=\"1\" class=\"dataframe\">\n",
              "  <thead>\n",
              "    <tr style=\"text-align: right;\">\n",
              "      <th></th>\n",
              "      <th>t`C mean</th>\n",
              "    </tr>\n",
              "  </thead>\n",
              "  <tbody>\n",
              "    <tr>\n",
              "      <th>count</th>\n",
              "      <td>1000.000000</td>\n",
              "    </tr>\n",
              "    <tr>\n",
              "      <th>mean</th>\n",
              "      <td>18.370300</td>\n",
              "    </tr>\n",
              "    <tr>\n",
              "      <th>std</th>\n",
              "      <td>6.091208</td>\n",
              "    </tr>\n",
              "    <tr>\n",
              "      <th>min</th>\n",
              "      <td>2.100000</td>\n",
              "    </tr>\n",
              "    <tr>\n",
              "      <th>25%</th>\n",
              "      <td>13.400000</td>\n",
              "    </tr>\n",
              "    <tr>\n",
              "      <th>50%</th>\n",
              "      <td>18.000000</td>\n",
              "    </tr>\n",
              "    <tr>\n",
              "      <th>75%</th>\n",
              "      <td>23.900000</td>\n",
              "    </tr>\n",
              "    <tr>\n",
              "      <th>max</th>\n",
              "      <td>31.400000</td>\n",
              "    </tr>\n",
              "  </tbody>\n",
              "</table>\n",
              "</div>"
            ],
            "text/plain": [
              "          t`C mean\n",
              "count  1000.000000\n",
              "mean     18.370300\n",
              "std       6.091208\n",
              "min       2.100000\n",
              "25%      13.400000\n",
              "50%      18.000000\n",
              "75%      23.900000\n",
              "max      31.400000"
            ]
          },
          "metadata": {
            "tags": []
          },
          "execution_count": 4
        }
      ]
    },
    {
      "cell_type": "markdown",
      "metadata": {
        "id": "2cGu8bAE6UqM"
      },
      "source": [
        "# Стандартизация и нормализация временных рядов"
      ]
    },
    {
      "cell_type": "code",
      "metadata": {
        "colab": {
          "base_uri": "https://localhost:8080/"
        },
        "id": "_H01G8E-sq2p",
        "outputId": "087e32a3-5db3-416d-91d8-438a6de34abb"
      },
      "source": [
        "from pandas import read_csv\n",
        "from sklearn.preprocessing import MinMaxScaler\n",
        "\n",
        "values = df.values\n",
        "values = values.reshape((len(values), 1))\n",
        "\n",
        "scaler = MinMaxScaler(feature_range=(0,1))\n",
        "scaler = scaler.fit(values)\n",
        "print('Min: %f, Max: %f' % (scaler.data_min_, scaler.data_max_))\n",
        "\n",
        "normalized = scaler.transform(values)\n",
        "for i in range(5):\n",
        "    print(normalized[i])\n",
        "\n",
        "inversed = scaler.inverse_transform(normalized)\n",
        "for i in range(5):\n",
        "    print(inversed[i])"
      ],
      "execution_count": 5,
      "outputs": [
        {
          "output_type": "stream",
          "text": [
            "Min: 2.100000, Max: 31.400000\n",
            "[0.64163823]\n",
            "[0.63139932]\n",
            "[0.62457338]\n",
            "[0.60068259]\n",
            "[0.44368601]\n",
            "[20.9]\n",
            "[20.6]\n",
            "[20.4]\n",
            "[19.7]\n",
            "[15.1]\n"
          ],
          "name": "stdout"
        }
      ]
    },
    {
      "cell_type": "code",
      "metadata": {
        "colab": {
          "base_uri": "https://localhost:8080/",
          "height": 281
        },
        "id": "2GBQIJbFsq2u",
        "outputId": "55c1ecec-5209-4010-cff4-84d4c36feedc"
      },
      "source": [
        "from matplotlib import pyplot\n",
        "df.hist()\n",
        "pyplot.show()"
      ],
      "execution_count": 6,
      "outputs": [
        {
          "output_type": "display_data",
          "data": {
            "image/png": "[encoded data removed]",
            "text/plain": [
              "<Figure size 432x288 with 1 Axes>"
            ]
          },
          "metadata": {
            "tags": [],
            "needs_background": "light"
          }
        }
      ]
    },
    {
      "cell_type": "code",
      "metadata": {
        "colab": {
          "base_uri": "https://localhost:8080/"
        },
        "id": "pK74cVYgqFaa",
        "outputId": "1f2ea998-d5b9-41a9-a2b0-e4a1b709c071"
      },
      "source": [
        "from sklearn.preprocessing import StandardScaler\n",
        "from math import sqrt\n",
        "\n",
        "values = df.values\n",
        "values = values.reshape((len(values), 1))\n",
        "\n",
        "scaler = StandardScaler()\n",
        "scaler = scaler.fit(values)\n",
        "print('Mean: %f, StandardDeviation: %f' % (scaler.mean_, sqrt(scaler.var_)))\n",
        "\n",
        "normalized = scaler.transform(values)\n",
        "for i in range(5):\n",
        "    print(normalized[i])\n",
        "\n",
        "inversed = scaler.inverse_transform(normalized)\n",
        "for i in range(5):\n",
        "    print(inversed[i])"
      ],
      "execution_count": 7,
      "outputs": [
        {
          "output_type": "stream",
          "text": [
            "Mean: 18.370300, StandardDeviation: 6.088161\n",
            "[0.41551133]\n",
            "[0.36623537]\n",
            "[0.33338473]\n",
            "[0.21840749]\n",
            "[-0.53715725]\n",
            "[20.9]\n",
            "[20.6]\n",
            "[20.4]\n",
            "[19.7]\n",
            "[15.1]\n"
          ],
          "name": "stdout"
        }
      ]
    },
    {
      "cell_type": "markdown",
      "metadata": {
        "id": "yR2yYMaJunbM"
      },
      "source": [
        "# Результат"
      ]
    },
    {
      "cell_type": "markdown",
      "metadata": {
        "id": "QH7MyQoRzFnH"
      },
      "source": [
        "![image.png](data:image/png;base64,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)"
      ]
    }
  ]
}