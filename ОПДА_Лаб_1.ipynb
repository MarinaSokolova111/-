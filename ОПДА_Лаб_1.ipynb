{
  "nbformat": 4,
  "nbformat_minor": 0,
  "metadata": {
    "colab": {
      "name": "ОПДА Лекция 1 ",
      "provenance": [],
      "authorship_tag": "ABX9TyODiQFUOZbdaah1BXqs4Yrt",
      "include_colab_link": true
    },
    "kernelspec": {
      "name": "python3",
      "display_name": "Python 3"
    }
  },
  "cells": [
    {
      "cell_type": "markdown",
      "metadata": {
        "id": "view-in-github",
        "colab_type": "text"
      },
      "source": [
        "<a href=\"https://colab.research.google.com/github/MarinaSokolova111/OPDA/blob/main/%D0%9E%D0%9F%D0%94%D0%90_%D0%9B%D0%B0%D0%B1_1.ipynb\" target=\"_parent\"><img src=\"https://colab.research.google.com/assets/colab-badge.svg\" alt=\"Open In Colab\"/></a>"
      ]
    },
    {
      "cell_type": "markdown",
      "metadata": {
        "id": "XgjEII3fY5ja"
      },
      "source": [
        "# *Задача* *№1*"
      ]
    },
    {
      "cell_type": "markdown",
      "metadata": {
        "id": "iWz_uiC-I5_Q"
      },
      "source": [
        "1.6. Считайте 3 числа:\r\n",
        "n - количество элементов матрицы\r\n",
        "m и k - размеры матрицы (число строк и столбцов соответственно)\r\n",
        "Заполните матрицу Z числами от 0 до n-1 по порядку (сперва строки, потом столбцы).\r\n",
        "Гарантируется, что m*k = n, т.е. все элементы \"влезут\" в матрицу и не останется\r\n",
        "пустых мест.\r\n"
      ]
    },
    {
      "cell_type": "code",
      "metadata": {
        "colab": {
          "base_uri": "https://localhost:8080/"
        },
        "id": "KkfiAbB_GSQr",
        "outputId": "3870ccf7-ba9b-4826-86d8-bfe9c431ace4"
      },
      "source": [
        "import numpy as np\r\n",
        "n = 6\r\n",
        "m = 2\r\n",
        "k = 3\r\n",
        "a = np.arange(n)\r\n",
        "Z = a.reshape(m, k)\r\n",
        "print(type(Z))\r\n",
        "print(Z)\r\n"
      ],
      "execution_count": null,
      "outputs": [
        {
          "output_type": "stream",
          "text": [
            "<class 'numpy.ndarray'>\n",
            "[[0 1 2]\n",
            " [3 4 5]]\n"
          ],
          "name": "stdout"
        }
      ]
    },
    {
      "cell_type": "code",
      "metadata": {
        "id": "07BDLFDWH3Kd",
        "colab": {
          "base_uri": "https://localhost:8080/"
        },
        "outputId": "5e1e58b4-c652-4b17-9463-54d486836239"
      },
      "source": [
        "n = 6\r\n",
        "m = 2\r\n",
        "k = 3\r\n",
        "\r\n",
        "a = list(range(n))\r\n",
        "\r\n",
        "if m*k == n:\r\n",
        "    def group(iterable, count):\r\n",
        "        return [iterable[i:i + count] for i in range(0, len(iterable), count)]\r\n",
        "\r\n",
        "    b = group(a, k)\r\n",
        "    print(type(b))\r\n",
        "\r\n",
        "    for i in b:\r\n",
        "        for g in i:\r\n",
        "            print(g, end=' ')\r\n",
        "        print()\r\n",
        "\r\n",
        "else:\r\n",
        "    print('-------------------------------------------------')\r\n"
      ],
      "execution_count": 1,
      "outputs": [
        {
          "output_type": "stream",
          "text": [
            "<class 'list'>\n",
            "0 1 2 \n",
            "3 4 5 \n"
          ],
          "name": "stdout"
        }
      ]
    },
    {
      "cell_type": "code",
      "metadata": {
        "colab": {
          "base_uri": "https://localhost:8080/"
        },
        "id": "0YyhEXl1pJDY",
        "outputId": "53fb17d8-fbac-4eab-90c4-ef96800d1b64"
      },
      "source": [
        "import timeit\r\n",
        "import numpy as np\r\n",
        "\r\n",
        "\r\n",
        "def time_py(size):\r\n",
        "    n = 9\r\n",
        "    m = 3\r\n",
        "    k = 3\r\n",
        "    a = list(range(n))\r\n",
        "\r\n",
        "    if m*k == n:\r\n",
        "        def group(iterable, count):\r\n",
        "            return [iterable[i:i + count] for i in range(0, len(iterable), count)]\r\n",
        "\r\n",
        "        b = group(a, k)\r\n",
        "        print(type(b))\r\n",
        "\r\n",
        "        for i in b:\r\n",
        "            for g in i:\r\n",
        "                print(g, end=' ')\r\n",
        "            print()\r\n",
        "\r\n",
        "    else:\r\n",
        "        print('-------------------------------------------------')\r\n",
        "\r\n",
        "\r\n",
        "def time_numpy(size):\r\n",
        "    n = 9\r\n",
        "    m = 3\r\n",
        "    k = 3\r\n",
        "    a = np.arange(n)\r\n",
        "    Z = a.reshape(m, k)\r\n",
        "    print(type(Z))\r\n",
        "    print(Z)\r\n",
        "\r\n",
        "if __name__ == '__main__':\r\n",
        "\r\n",
        "    # For smaller arrays\r\n",
        "    # print('Array size: 1000')\r\n",
        "\r\n",
        "    start_time = timeit.default_timer()\r\n",
        "    time_py(1000)\r\n",
        "    py_time_1 = timeit.default_timer() - start_time\r\n",
        "\r\n",
        "    start_time = timeit.default_timer()\r\n",
        "    time_numpy(1000)\r\n",
        "    numpy_time_1 = timeit.default_timer() - start_time\r\n",
        "\r\n",
        "    # For large arrays\r\n",
        "    # print('Array size: 100 000 000')\r\n",
        "\r\n",
        "    start_time = timeit.default_timer()\r\n",
        "    time_py(100000000)\r\n",
        "    py_time_2 = timeit.default_timer() - start_time\r\n",
        "\r\n",
        "    start_time = timeit.default_timer()\r\n",
        "    time_numpy(100000000)\r\n",
        "    numpy_time_2 = timeit.default_timer() - start_time\r\n"
      ],
      "execution_count": 2,
      "outputs": [
        {
          "output_type": "stream",
          "text": [
            "<class 'list'>\n",
            "0 1 2 \n",
            "3 4 5 \n",
            "6 7 8 \n",
            "<class 'numpy.ndarray'>\n",
            "[[0 1 2]\n",
            " [3 4 5]\n",
            " [6 7 8]]\n",
            "<class 'list'>\n",
            "0 1 2 \n",
            "3 4 5 \n",
            "6 7 8 \n",
            "<class 'numpy.ndarray'>\n",
            "[[0 1 2]\n",
            " [3 4 5]\n",
            " [6 7 8]]\n"
          ],
          "name": "stdout"
        }
      ]
    },
    {
      "cell_type": "code",
      "metadata": {
        "colab": {
          "base_uri": "https://localhost:8080/"
        },
        "id": "fQ7RoXVSp40t",
        "outputId": "ca8b2e6c-199e-4f92-874d-77abadbb8ab8"
      },
      "source": [
        "print('Py size: 1000')\r\n",
        "print(f'size 1000: время {py_time_1}')\r\n",
        "print(f'size 1000: время {numpy_time_1}')\r\n",
        "print('------------------------------------------')\r\n",
        "print('Numpy size: 100000000')\r\n",
        "print(f'size 100000000: время {py_time_2}')\r\n",
        "print(f'size 100000000: время {numpy_time_2}')\r\n"
      ],
      "execution_count": 4,
      "outputs": [
        {
          "output_type": "stream",
          "text": [
            "Py size: 1000\n",
            "size 1000: время 0.0007602740000720587\n",
            "size 1000: время 0.00709752699992805\n",
            "------------------------------------------\n",
            "Numpy size: 100000000\n",
            "size 100000000: время 0.0002960360000088258\n",
            "size 100000000: время 0.0003133750000188229\n"
          ],
          "name": "stdout"
        }
      ]
    },
    {
      "cell_type": "markdown",
      "metadata": {
        "id": "fl8kM6FFslDl"
      },
      "source": [
        "Вывод: При работе с матрицами и т.п. бессомненно удобнее, быстрее и эффективнее работать через Numpy. "
      ]
    }
  ]
}